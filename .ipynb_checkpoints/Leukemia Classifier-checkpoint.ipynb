{
 "cells": [
  {
   "cell_type": "markdown",
   "metadata": {},
   "source": [
    "# Type of Leukemia Prediction"
   ]
  },
  {
   "cell_type": "code",
   "execution_count": 2,
   "metadata": {},
   "outputs": [],
   "source": [
    "import numpy as np\n",
    "import matplotlib.pyplot as plt\n",
    "import pandas as pd"
   ]
  },
  {
   "cell_type": "code",
   "execution_count": 3,
   "metadata": {},
   "outputs": [],
   "source": [
    "df = pd.read_csv(\"leukemia_data.csv\")"
   ]
  },
  {
   "cell_type": "code",
   "execution_count": 6,
   "metadata": {},
   "outputs": [
    {
     "data": {
      "text/plain": [
       "(72, 151)"
      ]
     },
     "execution_count": 6,
     "metadata": {},
     "output_type": "execute_result"
    }
   ],
   "source": [
    "# 72 leukemia patients (rows)\n",
    "# 150 Expression Values (columns)\n",
    "df.shape"
   ]
  },
  {
   "cell_type": "code",
   "execution_count": 12,
   "metadata": {},
   "outputs": [
    {
     "data": {
      "text/plain": [
       "'leukemia_type'"
      ]
     },
     "execution_count": 12,
     "metadata": {},
     "output_type": "execute_result"
    }
   ],
   "source": [
    "# Last column = Type of Leukemia (ALL or AML)\n",
    "df.columns[-1]"
   ]
  },
  {
   "cell_type": "code",
   "execution_count": 7,
   "metadata": {},
   "outputs": [
    {
     "data": {
      "text/html": [
       "<div>\n",
       "<style scoped>\n",
       "    .dataframe tbody tr th:only-of-type {\n",
       "        vertical-align: middle;\n",
       "    }\n",
       "\n",
       "    .dataframe tbody tr th {\n",
       "        vertical-align: top;\n",
       "    }\n",
       "\n",
       "    .dataframe thead th {\n",
       "        text-align: right;\n",
       "    }\n",
       "</style>\n",
       "<table border=\"1\" class=\"dataframe\">\n",
       "  <thead>\n",
       "    <tr style=\"text-align: right;\">\n",
       "      <th></th>\n",
       "      <th>Zyxin</th>\n",
       "      <th>PRG1 Proteoglycan 1, secretory granule</th>\n",
       "      <th>CD33 CD33 antigen (differentiation antigen)</th>\n",
       "      <th>DF D component of complement (adipsin)</th>\n",
       "      <th>RNS2 Ribonuclease 2 (eosinophil-derived neurotoxin; EDN)</th>\n",
       "      <th>CST3 Cystatin C (amyloid angiopathy and cerebral hemorrhage)</th>\n",
       "      <th>APLP2 Amyloid beta (A4) precursor-like protein 2</th>\n",
       "      <th>GLUTATHIONE S-TRANSFERASE, MICROSOMAL</th>\n",
       "      <th>CTSD Cathepsin D (lysosomal aspartyl protease)</th>\n",
       "      <th>ATP6C Vacuolar H+ ATPase proton channel subunit</th>\n",
       "      <th>...</th>\n",
       "      <th>RNH Ribonuclease/angiogenin inhibitor</th>\n",
       "      <th>MPO from  Human myeloperoxidase gene, exons 1-4./ntype=DNA /annot=exon</th>\n",
       "      <th>Very-long-chain acyl-CoA dehydrogenase (VLCAD)</th>\n",
       "      <th>Low-Mr GTP-binding protein (RAB31) mRNA</th>\n",
       "      <th>KIAA0184 gene, partial cds</th>\n",
       "      <th>OBF-1 mRNA for octamer binding factor 1</th>\n",
       "      <th>LPAP gene</th>\n",
       "      <th>HOXB3 Homeo box B3</th>\n",
       "      <th>ALCAM Activated leucocyte cell adhesion molecule</th>\n",
       "      <th>leukemia_type</th>\n",
       "    </tr>\n",
       "  </thead>\n",
       "  <tbody>\n",
       "    <tr>\n",
       "      <th>0</th>\n",
       "      <td>-8</td>\n",
       "      <td>69</td>\n",
       "      <td>2323</td>\n",
       "      <td>1656</td>\n",
       "      <td>575</td>\n",
       "      <td>-958</td>\n",
       "      <td>1524</td>\n",
       "      <td>795</td>\n",
       "      <td>480</td>\n",
       "      <td>952</td>\n",
       "      <td>...</td>\n",
       "      <td>1410</td>\n",
       "      <td>44</td>\n",
       "      <td>1284</td>\n",
       "      <td>303</td>\n",
       "      <td>174</td>\n",
       "      <td>-283</td>\n",
       "      <td>261</td>\n",
       "      <td>177</td>\n",
       "      <td>298</td>\n",
       "      <td>ALL</td>\n",
       "    </tr>\n",
       "    <tr>\n",
       "      <th>1</th>\n",
       "      <td>76</td>\n",
       "      <td>17</td>\n",
       "      <td>1238</td>\n",
       "      <td>-10</td>\n",
       "      <td>1169</td>\n",
       "      <td>-429</td>\n",
       "      <td>1980</td>\n",
       "      <td>833</td>\n",
       "      <td>678</td>\n",
       "      <td>388</td>\n",
       "      <td>...</td>\n",
       "      <td>2325</td>\n",
       "      <td>146</td>\n",
       "      <td>540</td>\n",
       "      <td>1358</td>\n",
       "      <td>309</td>\n",
       "      <td>-65</td>\n",
       "      <td>101</td>\n",
       "      <td>3460</td>\n",
       "      <td>307</td>\n",
       "      <td>ALL</td>\n",
       "    </tr>\n",
       "    <tr>\n",
       "      <th>2</th>\n",
       "      <td>184</td>\n",
       "      <td>333</td>\n",
       "      <td>1982</td>\n",
       "      <td>-91</td>\n",
       "      <td>545</td>\n",
       "      <td>-645</td>\n",
       "      <td>2311</td>\n",
       "      <td>1391</td>\n",
       "      <td>540</td>\n",
       "      <td>559</td>\n",
       "      <td>...</td>\n",
       "      <td>2789</td>\n",
       "      <td>110</td>\n",
       "      <td>236</td>\n",
       "      <td>254</td>\n",
       "      <td>226</td>\n",
       "      <td>-395</td>\n",
       "      <td>309</td>\n",
       "      <td>416</td>\n",
       "      <td>309</td>\n",
       "      <td>ALL</td>\n",
       "    </tr>\n",
       "    <tr>\n",
       "      <th>3</th>\n",
       "      <td>71</td>\n",
       "      <td>121</td>\n",
       "      <td>3947</td>\n",
       "      <td>166</td>\n",
       "      <td>716</td>\n",
       "      <td>-795</td>\n",
       "      <td>2408</td>\n",
       "      <td>996</td>\n",
       "      <td>538</td>\n",
       "      <td>626</td>\n",
       "      <td>...</td>\n",
       "      <td>1132</td>\n",
       "      <td>86</td>\n",
       "      <td>786</td>\n",
       "      <td>-304</td>\n",
       "      <td>151</td>\n",
       "      <td>-367</td>\n",
       "      <td>288</td>\n",
       "      <td>392</td>\n",
       "      <td>693</td>\n",
       "      <td>ALL</td>\n",
       "    </tr>\n",
       "    <tr>\n",
       "      <th>4</th>\n",
       "      <td>111</td>\n",
       "      <td>95</td>\n",
       "      <td>3324</td>\n",
       "      <td>405</td>\n",
       "      <td>1211</td>\n",
       "      <td>-237</td>\n",
       "      <td>1671</td>\n",
       "      <td>678</td>\n",
       "      <td>588</td>\n",
       "      <td>776</td>\n",
       "      <td>...</td>\n",
       "      <td>1269</td>\n",
       "      <td>104</td>\n",
       "      <td>968</td>\n",
       "      <td>-86</td>\n",
       "      <td>672</td>\n",
       "      <td>290</td>\n",
       "      <td>395</td>\n",
       "      <td>7972</td>\n",
       "      <td>713</td>\n",
       "      <td>ALL</td>\n",
       "    </tr>\n",
       "  </tbody>\n",
       "</table>\n",
       "<p>5 rows × 151 columns</p>\n",
       "</div>"
      ],
      "text/plain": [
       "   Zyxin  PRG1 Proteoglycan 1, secretory granule  \\\n",
       "0     -8                                      69   \n",
       "1     76                                      17   \n",
       "2    184                                     333   \n",
       "3     71                                     121   \n",
       "4    111                                      95   \n",
       "\n",
       "   CD33 CD33 antigen (differentiation antigen)  \\\n",
       "0                                         2323   \n",
       "1                                         1238   \n",
       "2                                         1982   \n",
       "3                                         3947   \n",
       "4                                         3324   \n",
       "\n",
       "   DF D component of complement (adipsin)  \\\n",
       "0                                    1656   \n",
       "1                                     -10   \n",
       "2                                     -91   \n",
       "3                                     166   \n",
       "4                                     405   \n",
       "\n",
       "   RNS2 Ribonuclease 2 (eosinophil-derived neurotoxin; EDN)  \\\n",
       "0                                                575          \n",
       "1                                               1169          \n",
       "2                                                545          \n",
       "3                                                716          \n",
       "4                                               1211          \n",
       "\n",
       "   CST3 Cystatin C (amyloid angiopathy and cerebral hemorrhage)  \\\n",
       "0                                               -958              \n",
       "1                                               -429              \n",
       "2                                               -645              \n",
       "3                                               -795              \n",
       "4                                               -237              \n",
       "\n",
       "   APLP2 Amyloid beta (A4) precursor-like protein 2  \\\n",
       "0                                              1524   \n",
       "1                                              1980   \n",
       "2                                              2311   \n",
       "3                                              2408   \n",
       "4                                              1671   \n",
       "\n",
       "   GLUTATHIONE S-TRANSFERASE, MICROSOMAL  \\\n",
       "0                                    795   \n",
       "1                                    833   \n",
       "2                                   1391   \n",
       "3                                    996   \n",
       "4                                    678   \n",
       "\n",
       "   CTSD Cathepsin D (lysosomal aspartyl protease)  \\\n",
       "0                                             480   \n",
       "1                                             678   \n",
       "2                                             540   \n",
       "3                                             538   \n",
       "4                                             588   \n",
       "\n",
       "   ATP6C Vacuolar H+ ATPase proton channel subunit  ...  \\\n",
       "0                                              952  ...   \n",
       "1                                              388  ...   \n",
       "2                                              559  ...   \n",
       "3                                              626  ...   \n",
       "4                                              776  ...   \n",
       "\n",
       "   RNH Ribonuclease/angiogenin inhibitor  \\\n",
       "0                                   1410   \n",
       "1                                   2325   \n",
       "2                                   2789   \n",
       "3                                   1132   \n",
       "4                                   1269   \n",
       "\n",
       "   MPO from  Human myeloperoxidase gene, exons 1-4./ntype=DNA /annot=exon  \\\n",
       "0                                                 44                        \n",
       "1                                                146                        \n",
       "2                                                110                        \n",
       "3                                                 86                        \n",
       "4                                                104                        \n",
       "\n",
       "   Very-long-chain acyl-CoA dehydrogenase (VLCAD)  \\\n",
       "0                                            1284   \n",
       "1                                             540   \n",
       "2                                             236   \n",
       "3                                             786   \n",
       "4                                             968   \n",
       "\n",
       "   Low-Mr GTP-binding protein (RAB31) mRNA  KIAA0184 gene, partial cds  \\\n",
       "0                                      303                         174   \n",
       "1                                     1358                         309   \n",
       "2                                      254                         226   \n",
       "3                                     -304                         151   \n",
       "4                                      -86                         672   \n",
       "\n",
       "   OBF-1 mRNA for octamer binding factor 1  LPAP gene  HOXB3 Homeo box B3  \\\n",
       "0                                     -283        261                 177   \n",
       "1                                      -65        101                3460   \n",
       "2                                     -395        309                 416   \n",
       "3                                     -367        288                 392   \n",
       "4                                      290        395                7972   \n",
       "\n",
       "   ALCAM Activated leucocyte cell adhesion molecule  leukemia_type  \n",
       "0                                               298            ALL  \n",
       "1                                               307            ALL  \n",
       "2                                               309            ALL  \n",
       "3                                               693            ALL  \n",
       "4                                               713            ALL  \n",
       "\n",
       "[5 rows x 151 columns]"
      ]
     },
     "execution_count": 7,
     "metadata": {},
     "output_type": "execute_result"
    }
   ],
   "source": [
    "# Exploring data (first 5 rows)\n",
    "df.head()"
   ]
  },
  {
   "cell_type": "markdown",
   "metadata": {},
   "source": [
    "## Part 1 - Using Weka"
   ]
  },
  {
   "cell_type": "markdown",
   "metadata": {},
   "source": [
    "<img src=\"images/wekaibkout.jpg\"/>"
   ]
  },
  {
   "cell_type": "markdown",
   "metadata": {},
   "source": [
    "### 1) Record % correctly classified and confusion matrix (ALL positive class)."
   ]
  },
  {
   "cell_type": "markdown",
   "metadata": {},
   "source": [
    "<img src=\"images/corrclass1.jpg\"/>"
   ]
  },
  {
   "cell_type": "markdown",
   "metadata": {},
   "source": [
    "<img src=\"images/confmat.JPG\"/>\n"
   ]
  },
  {
   "cell_type": "markdown",
   "metadata": {},
   "source": [
    "\n",
    "**True Positive Rate**  =  TP / (TP + FN) = 44 / (44 + 0) = 1.0\n",
    "\n",
    "100% sensitive\n",
    "\n",
    "**False Positive Rate** =  FP / (FP + TN) =  4 / (4  + 24) = 0.143\n",
    "\n",
    "low error\n",
    " "
   ]
  },
  {
   "cell_type": "markdown",
   "metadata": {},
   "source": [
    "### What are ALL and AML stand for?\n",
    "\n",
    "Types of Leukemia:  \n",
    "\n",
    ". **ALL = Acute lymphocytic leukemia**\n",
    "\n",
    ". **AML = Acute myelocytic leukemia**\n"
   ]
  },
  {
   "cell_type": "markdown",
   "metadata": {},
   "source": [
    "### 2) Derive the confusion matrix when AML is the positive class.\n",
    "\n",
    "        AML (Positive)     ALL (Negative)    <-- classified (Predicted) as\n",
    "\n",
    "            24                 4               a = AML (Genuinely Positive)\n",
    "            0                 44               b = ALL (Genuinely Negative)"
   ]
  },
  {
   "cell_type": "markdown",
   "metadata": {},
   "source": [
    "### 3) Calculate the class-dependent TP and FP rates when AML is the positive class"
   ]
  },
  {
   "cell_type": "markdown",
   "metadata": {},
   "source": [
    "\n",
    "### TPR (Sensitivity): (more is better)\n",
    "\n",
    "True Positive Rate  =  TP / (TP + FN) = 24 / (24 + 4) = 0.857\n",
    "\n",
    "85.7% Sensitive\n",
    "\n",
    "<img src=\"images/TPR.jpg\"/>\n",
    "\n",
    "\n",
    "### FPR (1 - Specificity): (less is better) (less = more specific)\n",
    "\n",
    "False Positive Rate =  FP / (FP + TN) =  0 / (0  + 44) = 0\n",
    "\n",
    "<img src=\"images/fpr2.jpg\"/>\n",
    " "
   ]
  },
  {
   "attachments": {},
   "cell_type": "markdown",
   "metadata": {},
   "source": [
    "### ROC curves\n",
    "\n",
    "ROC = Receiver Operator Characteristic \n",
    "\n",
    ". Helps determine the cutoff point which optimizes sensitivity and specificity for given tests. \n",
    "\n",
    ". Can be used to assess the overall diagnostic accuracy of a test\n",
    "\n",
    ". Y axis = TPR = sensitivity  (more is better)\n",
    "\n",
    ". X axis = FPR = (1 - specificity)  (less is better)\n",
    "\n",
    ". Overall Diagnostic Accuracy = AUR = Area Under ROC curve"
   ]
  },
  {
   "cell_type": "markdown",
   "metadata": {},
   "source": [
    "### 4) Capture the ROC curves for ALL positive"
   ]
  },
  {
   "cell_type": "markdown",
   "metadata": {},
   "source": [
    "<img src=\"images/rocall.jpg\"/>"
   ]
  },
  {
   "cell_type": "markdown",
   "metadata": {},
   "source": [
    "### 5) Capture the ROC curves for AML positive\n",
    "\n",
    "ROC = Receiver Operator Characteristic"
   ]
  },
  {
   "cell_type": "markdown",
   "metadata": {},
   "source": [
    "<img src=\"images/rocaml.jpg\"/>"
   ]
  },
  {
   "cell_type": "markdown",
   "metadata": {},
   "source": [
    "### 6) Using the ZeroR baseline classifier"
   ]
  },
  {
   "cell_type": "markdown",
   "metadata": {},
   "source": [
    "<img src=\"images/wekazerorout.jpg\"/>"
   ]
  },
  {
   "cell_type": "markdown",
   "metadata": {},
   "source": [
    "### 7) Record % correctly classified and confusion matrix (ALL positive class)."
   ]
  },
  {
   "cell_type": "markdown",
   "metadata": {},
   "source": [
    "<img src=\"images/corrclass2.jpg\"/>\n",
    "\n",
    "<img src=\"images/confmat2.jpg\"/>"
   ]
  },
  {
   "cell_type": "markdown",
   "metadata": {},
   "source": [
    "\n",
    "**True Positive Rate**  =  TP / (TP + FN) = 44 / (44 + 0) = 1.0\n",
    "\n",
    "100% sensitive\n",
    "\n",
    "**False Positive Rate** =  FP / (FP + TN) = 28 / (28 + 0) = 1.0\n",
    "\n",
    "100% erroneous\n",
    " "
   ]
  },
  {
   "cell_type": "markdown",
   "metadata": {},
   "source": [
    "### 8) Derive the confusion matrix when AML is the positive class.\n",
    "\n",
    "        AML (Positive)     ALL (Negative)    <-- classified (Predicted) as\n",
    "\n",
    "            0                 28               a = AML (Genuinely Positive)\n",
    "            0                 44               b = ALL (Genuinely Negative)"
   ]
  },
  {
   "cell_type": "markdown",
   "metadata": {},
   "source": [
    "### 9) Calculate the class-dependent TP and FP rates when AML is the positive class"
   ]
  },
  {
   "cell_type": "markdown",
   "metadata": {},
   "source": [
    "\n",
    "### TPR (Sensitivity): (more is better)\n",
    "\n",
    "True Positive Rate  =  TP / (TP + FN) = 0 / (0 + 28) = 0\n",
    "\n",
    "0% Sensitive\n",
    "\n",
    "<img src=\"images/zerotpr2.jpg\"/>\n",
    "\n",
    "### FPR (1 - Specificity): (less is better) (less = more specific)\n",
    "\n",
    "False Positive Rate =  FP / (FP + TN) =  0 / (0  + 44) = 0\n",
    "\n",
    "<img src=\"images/zerofpr2.jpg\"/>\n",
    " "
   ]
  },
  {
   "cell_type": "markdown",
   "metadata": {},
   "source": [
    "### 10) Capture the ROC curves for ALL positive\n",
    "\n",
    "ROC = Receiver Operator Characteristic"
   ]
  },
  {
   "cell_type": "markdown",
   "metadata": {},
   "source": [
    "<img src=\"images/rocallzero.jpg\"/>"
   ]
  },
  {
   "cell_type": "markdown",
   "metadata": {},
   "source": [
    "### 11) Capture the ROC curves for AML positive\n",
    "\n",
    "ROC = Receiver Operator Characteristic"
   ]
  },
  {
   "attachments": {},
   "cell_type": "markdown",
   "metadata": {},
   "source": [
    "<img src=\"images/rocamlzero.jpg\"/>"
   ]
  },
  {
   "cell_type": "markdown",
   "metadata": {},
   "source": [
    "## Part 2"
   ]
  },
  {
   "cell_type": "code",
   "execution_count": null,
   "metadata": {},
   "outputs": [],
   "source": [
    "import numpy as np\n",
    "import matplotlib.pyplot as plt\n",
    "import pandas as pd"
   ]
  },
  {
   "cell_type": "code",
   "execution_count": null,
   "metadata": {},
   "outputs": [],
   "source": [
    "df = pd.read_csv(\"leukemia_data.csv\")"
   ]
  },
  {
   "cell_type": "code",
   "execution_count": null,
   "metadata": {},
   "outputs": [],
   "source": [
    "# 72 leukemia patients (rows)\n",
    "# 150 Expression Values (columns)\n",
    "df.shape"
   ]
  },
  {
   "cell_type": "code",
   "execution_count": null,
   "metadata": {},
   "outputs": [],
   "source": [
    "# Last column = Type of Leukemia (ALL or AML)\n",
    "df.columns[-1]"
   ]
  },
  {
   "cell_type": "code",
   "execution_count": null,
   "metadata": {},
   "outputs": [],
   "source": [
    "# Exploring data (first 5 rows)\n",
    "df.head()"
   ]
  },
  {
   "cell_type": "code",
   "execution_count": 15,
   "metadata": {},
   "outputs": [
    {
     "name": "stdout",
     "output_type": "stream",
     "text": [
      "Confusion Matrix :\n",
      "[[4 2]\n",
      " [1 3]]\n",
      "Accuracy Score : 0.7\n",
      "Report : \n",
      "              precision    recall  f1-score   support\n",
      "\n",
      "           0       0.80      0.67      0.73         6\n",
      "           1       0.60      0.75      0.67         4\n",
      "\n",
      "    accuracy                           0.70        10\n",
      "   macro avg       0.70      0.71      0.70        10\n",
      "weighted avg       0.72      0.70      0.70        10\n",
      "\n"
     ]
    }
   ],
   "source": [
    "from sklearn.metrics import confusion_matrix \n",
    "from sklearn.metrics import accuracy_score \n",
    "from sklearn.metrics import classification_report \n",
    "actual = [1, 1, 0, 1, 0, 0, 1, 0, 0, 0] \n",
    "predicted = [1, 0, 0, 1, 0, 0, 1, 1, 1, 0] \n",
    "results = confusion_matrix(actual, predicted) \n",
    "print('Confusion Matrix :')\n",
    "print(results) \n",
    "print('Accuracy Score :',accuracy_score(actual, predicted)) \n",
    "print('Report : ')\n",
    "print(classification_report(actual, predicted))"
   ]
  },
  {
   "cell_type": "code",
   "execution_count": null,
   "metadata": {},
   "outputs": [],
   "source": []
  }
 ],
 "metadata": {
  "kernelspec": {
   "display_name": "Python 3",
   "language": "python",
   "name": "python3"
  },
  "language_info": {
   "codemirror_mode": {
    "name": "ipython",
    "version": 3
   },
   "file_extension": ".py",
   "mimetype": "text/x-python",
   "name": "python",
   "nbconvert_exporter": "python",
   "pygments_lexer": "ipython3",
   "version": "3.7.3"
  }
 },
 "nbformat": 4,
 "nbformat_minor": 2
}
